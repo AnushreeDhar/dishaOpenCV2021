{
 "cells": [
  {
   "cell_type": "code",
   "execution_count": 2,
   "id": "editorial-intermediate",
   "metadata": {},
   "outputs": [],
   "source": [
    "from CreateBeep import CreateBeep\n",
    "import soundfile as sf\n",
    "\n",
    "samplerate = 44100\n",
    "myBeep = CreateBeep(123.47)\n",
    "audio_array = myBeep.GetAudioData()\n",
    "sf.write('Beep_01.ogg',audio_array,samplerate)"
   ]
  },
  {
   "cell_type": "code",
   "execution_count": 3,
   "id": "protecting-missile",
   "metadata": {},
   "outputs": [],
   "source": [
    "beep_freq = [123.47,146.83,196,261.63,311.13,349.23, 440,554.37,739.99,987.77]"
   ]
  },
  {
   "cell_type": "code",
   "execution_count": 5,
   "id": "ongoing-chester",
   "metadata": {},
   "outputs": [],
   "source": [
    "for i in range(len(beep_freq)):\n",
    "    myBeep = CreateBeep(beep_freq[i])\n",
    "    audio_array = myBeep.GetAudioData()\n",
    "    sf.write('Beep_0' + str(i) +'.ogg',audio_array,samplerate)"
   ]
  },
  {
   "cell_type": "code",
   "execution_count": null,
   "id": "synthetic-board",
   "metadata": {},
   "outputs": [],
   "source": []
  }
 ],
 "metadata": {
  "kernelspec": {
   "display_name": "Python 3",
   "language": "python",
   "name": "python3"
  },
  "language_info": {
   "codemirror_mode": {
    "name": "ipython",
    "version": 3
   },
   "file_extension": ".py",
   "mimetype": "text/x-python",
   "name": "python",
   "nbconvert_exporter": "python",
   "pygments_lexer": "ipython3",
   "version": "3.7.10"
  }
 },
 "nbformat": 4,
 "nbformat_minor": 5
}
