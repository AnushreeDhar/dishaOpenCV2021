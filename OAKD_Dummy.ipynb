{
 "cells": [
  {
   "cell_type": "code",
   "execution_count": 4,
   "id": "3890f69f",
   "metadata": {},
   "outputs": [
    {
     "ename": "KeyboardInterrupt",
     "evalue": "",
     "output_type": "error",
     "traceback": [
      "\u001b[1;31m---------------------------------------------------------------------------\u001b[0m",
      "\u001b[1;31mKeyboardInterrupt\u001b[0m                         Traceback (most recent call last)",
      "\u001b[1;32m<ipython-input-4-47cb46760972>\u001b[0m in \u001b[0;36m<module>\u001b[1;34m\u001b[0m\n\u001b[0;32m     56\u001b[0m \u001b[1;31m#             print(\"filename----\", filename)\u001b[0m\u001b[1;33m\u001b[0m\u001b[1;33m\u001b[0m\u001b[1;33m\u001b[0m\u001b[0m\n\u001b[0;32m     57\u001b[0m             \u001b[0mfilename\u001b[0m \u001b[1;33m=\u001b[0m \u001b[1;34m\"Beep_frequencies\"\u001b[0m \u001b[1;33m+\u001b[0m \u001b[0mos\u001b[0m\u001b[1;33m.\u001b[0m\u001b[0msep\u001b[0m \u001b[1;33m+\u001b[0m \u001b[1;34m\"Beep\"\u001b[0m \u001b[1;33m+\u001b[0m \u001b[0msource_index\u001b[0m \u001b[1;33m+\u001b[0m \u001b[1;34m\".ogg\"\u001b[0m\u001b[1;33m\u001b[0m\u001b[1;33m\u001b[0m\u001b[0m\n\u001b[1;32m---> 58\u001b[1;33m             \u001b[0mPlay_Beep\u001b[0m\u001b[1;33m(\u001b[0m\u001b[0msource_object\u001b[0m\u001b[1;33m,\u001b[0m\u001b[0mfilename\u001b[0m\u001b[1;33m)\u001b[0m\u001b[1;33m\u001b[0m\u001b[1;33m\u001b[0m\u001b[0m\n\u001b[0m\u001b[0;32m     59\u001b[0m         \u001b[0mindex\u001b[0m\u001b[1;33m+=\u001b[0m\u001b[1;36m1\u001b[0m\u001b[1;33m\u001b[0m\u001b[1;33m\u001b[0m\u001b[0m\n\u001b[0;32m     60\u001b[0m \u001b[1;33m\u001b[0m\u001b[0m\n",
      "\u001b[1;32m<ipython-input-4-47cb46760972>\u001b[0m in \u001b[0;36mPlay_Beep\u001b[1;34m(source_pos, beep_filename)\u001b[0m\n\u001b[0;32m     26\u001b[0m     \u001b[1;32mwhile\u001b[0m \u001b[0mmy_sound\u001b[0m\u001b[1;33m.\u001b[0m\u001b[0mget_state\u001b[0m\u001b[1;33m(\u001b[0m\u001b[1;33m)\u001b[0m \u001b[1;33m==\u001b[0m \u001b[0mAL_PLAYING\u001b[0m\u001b[1;33m:\u001b[0m\u001b[1;33m\u001b[0m\u001b[1;33m\u001b[0m\u001b[0m\n\u001b[0;32m     27\u001b[0m         \u001b[1;31m# wait until the file is done playing\u001b[0m\u001b[1;33m\u001b[0m\u001b[1;33m\u001b[0m\u001b[1;33m\u001b[0m\u001b[0m\n\u001b[1;32m---> 28\u001b[1;33m         \u001b[0mtime\u001b[0m\u001b[1;33m.\u001b[0m\u001b[0msleep\u001b[0m\u001b[1;33m(\u001b[0m\u001b[1;36m0.2\u001b[0m\u001b[1;33m)\u001b[0m\u001b[1;33m\u001b[0m\u001b[1;33m\u001b[0m\u001b[0m\n\u001b[0m\u001b[0;32m     29\u001b[0m     \u001b[1;32mdel\u001b[0m \u001b[0mmy_sound\u001b[0m\u001b[1;33m\u001b[0m\u001b[1;33m\u001b[0m\u001b[0m\n\u001b[0;32m     30\u001b[0m     \u001b[1;32mdel\u001b[0m \u001b[0mmy_dest\u001b[0m\u001b[1;33m\u001b[0m\u001b[1;33m\u001b[0m\u001b[0m\n",
      "\u001b[1;31mKeyboardInterrupt\u001b[0m: "
     ]
    }
   ],
   "source": [
    "from openal import *\n",
    "import time\n",
    "import msvcrt\n",
    "import os\n",
    "import sys\n",
    "import keyboard\n",
    "\n",
    "t_source1_0 = 0\n",
    "t_source2_0 = 0\n",
    "\n",
    "source_01 = [-1,-1,4]\n",
    "source_02 = [3,3,4]\n",
    "\n",
    "source_list = []\n",
    "initialtime_list = []\n",
    "#finaltime_list = []\n",
    "\n",
    "initial = time.time()\n",
    "\n",
    "def Play_Beep(source_pos,beep_filename):\n",
    "    my_sound = oalOpen(beep_filename)           # source\n",
    "    my_sound.set_position(source_pos)\n",
    "    my_dest = oalGetListener()               # listener/destination\n",
    "    my_dest.move_to([0,0,0])\n",
    "    my_sound.play()\n",
    "    while my_sound.get_state() == AL_PLAYING:\n",
    "        # wait until the file is done playing\n",
    "        time.sleep(0.2)\n",
    "    del my_sound\n",
    "    del my_dest\n",
    "    \n",
    "# Manipulate list parameters:\n",
    "oalInit()\n",
    "while True:\n",
    "    if source_01 not in source_list:\n",
    "        source_list.append(source_01)\n",
    "        initialtime_list.append(t_source1_0)\n",
    "    if source_02 not in source_list:\n",
    "        source_list.append(source_02)\n",
    "        initialtime_list.append(t_source2_0)\n",
    "    \n",
    "    t_source1_1 = time.time()\n",
    "    t_source2_1 = time.time()\n",
    "    finaltime_list = [t_source1_1,t_source2_1]\n",
    "    \n",
    "    #iterate through all sources\n",
    "    index = 0\n",
    "    for source_object in source_list:\n",
    "        # get distance value\n",
    "        time_function = 1    # change to a function dependent on distance (exponentially)\n",
    "        if finaltime_list[index] - initialtime_list[index] >= time_function:\n",
    "            if index<10:\n",
    "                source_index = \"_0\" + str(index)\n",
    "            else:\n",
    "                source_index = \"_\" + str(index)\n",
    "#             print(\"filename----\", filename)\n",
    "            filename = \"Beep_frequencies\" + os.sep + \"Beep\" + source_index + \".ogg\"\n",
    "            Play_Beep(source_object,filename)\n",
    "        index+=1\n",
    "    \n",
    "    if keyboard.is_pressed('ENTER'):\n",
    "        print(\"you pressed Enter, so exiting program..\")\n",
    "        sys.exit(0)\n",
    "        oalQuit();\n",
    "        break;\n",
    "        \n",
    "#             print(a)\n",
    "#             break\n",
    "#         if keyboard.is_pressed('Esc'):\n",
    "#             print(\"\\nyou pressed Esc, so exiting...\")\n",
    "#             sys.exit(0)\n",
    "    if msvcrt.kbhit() and msvcrt.getch()==chr(27):\n",
    "        oalQuit()\n",
    "        break\n",
    "        \n",
    "        \n",
    "    \n"
   ]
  },
  {
   "cell_type": "code",
   "execution_count": null,
   "id": "49c5d59b",
   "metadata": {},
   "outputs": [],
   "source": [
    "\n",
    "\n",
    "\n"
   ]
  }
 ],
 "metadata": {
  "kernelspec": {
   "display_name": "Python 3",
   "language": "python",
   "name": "python3"
  },
  "language_info": {
   "codemirror_mode": {
    "name": "ipython",
    "version": 3
   },
   "file_extension": ".py",
   "mimetype": "text/x-python",
   "name": "python",
   "nbconvert_exporter": "python",
   "pygments_lexer": "ipython3",
   "version": "3.7.10"
  }
 },
 "nbformat": 4,
 "nbformat_minor": 5
}
